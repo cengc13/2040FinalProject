version https://git-lfs.github.com/spec/v1
oid sha256:8e4c8e31f72670732f9fde48b186db9b0083210ca90c68ae57dd311eae7847f1
size 150919016
