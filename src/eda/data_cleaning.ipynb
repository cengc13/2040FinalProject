{
 "cells": [
  {
   "cell_type": "code",
   "execution_count": 1,
   "metadata": {
    "colab": {
     "base_uri": "https://localhost:8080/",
     "height": 122
    },
    "colab_type": "code",
    "id": "95cSeHnhQqp-",
    "outputId": "18d4d851-4649-4b65-c600-c114b66aca56"
   },
   "outputs": [],
   "source": [
    "import os\n",
    "\n",
    "import numpy as np\n",
    "import pandas as pd\n",
    "try:\n",
    "    from google.colab import drive\n",
    "    drive.mount('/content/drive')\n",
    "    %tensorflow_version 2.x\n",
    "    IS_COLAB = True\n",
    "except:\n",
    "    IS_COLAB = False\n",
    "    pass"
   ]
  },
  {
   "cell_type": "code",
   "execution_count": 2,
   "metadata": {
    "colab": {},
    "colab_type": "code",
    "id": "ZvnygRaBRo0X"
   },
   "outputs": [],
   "source": [
    "from tqdm.notebook import tqdm\n",
    "tqdm.pandas()"
   ]
  },
  {
   "cell_type": "code",
   "execution_count": 3,
   "metadata": {
    "colab": {},
    "colab_type": "code",
    "id": "B94c1NnrR1xH"
   },
   "outputs": [],
   "source": [
    "DATA_FOLDER = \"/content/drive/My Drive/course/DATA 2040/DATA2040_FinalProject/data\" if IS_COLAB else \"../../data\""
   ]
  },
  {
   "cell_type": "code",
   "execution_count": 4,
   "metadata": {
    "colab": {},
    "colab_type": "code",
    "id": "6K2jO9PCR4z5"
   },
   "outputs": [],
   "source": [
    "import sys\n",
    "HELPER_PATH = \"/content/drive/My Drive/course/DATA 2040/DATA2040_FinalProject/utils\" if IS_COLAB else \"../utils\"\n",
    "sys.path.append(HELPER_PATH)\n",
    "from helpers import (clean_data, clean)"
   ]
  },
  {
   "cell_type": "code",
   "execution_count": 5,
   "metadata": {
    "colab": {
     "base_uri": "https://localhost:8080/",
     "height": 204
    },
    "colab_type": "code",
    "id": "zzq5uiCGR51y",
    "outputId": "a2bd0b22-f884-424c-8988-11bd6d314724"
   },
   "outputs": [
    {
     "data": {
      "text/plain": [
       "['jigsaw-toxic-comment-train-google-pt-cleaned.csv',\n",
       " 'jigsaw_miltilingual_test_translated.csv.zip',\n",
       " 'validation.csv',\n",
       " 'jigsaw-toxic-comment-train-google-it-cleaned.csv',\n",
       " 'jigsaw-toxic-comment-train-google-ru-cleaned.csv',\n",
       " 'train_uncertain.csv',\n",
       " 'jigsaw-toxic-comment-train-google-ru.csv',\n",
       " 'jigsaw-unintended-bias-train.csv',\n",
       " 'jigsaw_miltilingual_valid_translated.csv',\n",
       " 'train_cleaned.csv',\n",
       " 'jigsaw_miltilingual_test_translated.csv',\n",
       " 'jigsaw-toxic-comment-train-google-es.csv',\n",
       " 'train_translated_uncertain.csv',\n",
       " 'jigsaw-toxic-comment-train-google-fr-cleaned.csv',\n",
       " 'jigsaw-toxic-comment-train-google-es-cleaned.csv',\n",
       " 'jigsaw_miltilingual_valid_translated.csv.zip',\n",
       " 'validation-processed-seqlen128.csv',\n",
       " 'valid_uncertain.csv',\n",
       " 'jigsaw-toxic-comment-train-processed-seqlen128.csv',\n",
       " 'jigsaw-toxic-comment-train-google-fr.csv',\n",
       " 'jigsaw-toxic-comment-train-google-it.csv',\n",
       " 'jigsaw-unintended-bias-train-processed-seqlen128.csv',\n",
       " 'validation_cleaned.csv',\n",
       " 'jigsaw-toxic-comment-train-google-tr-cleaned.csv',\n",
       " 'jigsaw-toxic-comment-train-google-tr.csv',\n",
       " 'jigsaw-toxic-comment-train-google-pt.csv',\n",
       " 'test.csv',\n",
       " 'submission.csv',\n",
       " 'test-processed-seqlen128.csv',\n",
       " 'jigsaw-toxic-comment-train.csv',\n",
       " 'valid_translated_uncertain.csv',\n",
       " 'sample_submission.csv',\n",
       " 'submissions']"
      ]
     },
     "execution_count": 5,
     "metadata": {},
     "output_type": "execute_result"
    }
   ],
   "source": [
    "os.listdir(DATA_FOLDER)"
   ]
  },
  {
   "cell_type": "code",
   "execution_count": 6,
   "metadata": {
    "colab": {},
    "colab_type": "code",
    "id": "HjJcv73USAtK"
   },
   "outputs": [],
   "source": [
    "#### Could add a label to distinguished them after concatenated?\n",
    "train1 = pd.read_csv(DATA_FOLDER + \"/jigsaw-toxic-comment-train.csv\")\n",
    "# train2 = pd.read_csv(DATA_FOLDER + \"/jigsaw-unintended-bias-train.csv\")\n",
    "# train2.toxic = train2.toxic.round().astype(int)\n",
    "\n",
    "train3 = pd.read_csv(DATA_FOLDER + '/jigsaw-toxic-comment-train-google-es-cleaned.csv')\n",
    "train4 = pd.read_csv(DATA_FOLDER + '/jigsaw-toxic-comment-train-google-tr-cleaned.csv')\n",
    "\n",
    "valid = pd.read_csv(DATA_FOLDER + '/validation.csv')"
   ]
  },
  {
   "cell_type": "code",
   "execution_count": 7,
   "metadata": {
    "colab": {
     "base_uri": "https://localhost:8080/",
     "height": 204
    },
    "colab_type": "code",
    "id": "1NHdYUA-VNp2",
    "outputId": "9ae3793e-4ea4-4627-a90f-b7082969699c"
   },
   "outputs": [
    {
     "data": {
      "text/plain": [
       "(223549, 2)"
      ]
     },
     "execution_count": 7,
     "metadata": {},
     "output_type": "execute_result"
    }
   ],
   "source": [
    "train1[['comment_text', 'toxic']].shape"
   ]
  },
  {
   "cell_type": "code",
   "execution_count": 8,
   "metadata": {},
   "outputs": [],
   "source": [
    "# train2[['comment_text', 'toxic']].query('toxic==1').shape"
   ]
  },
  {
   "cell_type": "code",
   "execution_count": 9,
   "metadata": {},
   "outputs": [],
   "source": [
    "# train2.comment_text[4]"
   ]
  },
  {
   "cell_type": "code",
   "execution_count": 10,
   "metadata": {},
   "outputs": [],
   "source": [
    "# train2_sampled = train2[['comment_text', 'toxic']].query('toxic==0').sample(n=200000, random_state=0)\n",
    "# train2_sampled.shape"
   ]
  },
  {
   "cell_type": "code",
   "execution_count": 11,
   "metadata": {},
   "outputs": [
    {
     "data": {
      "text/plain": [
       "335775"
      ]
     },
     "execution_count": 11,
     "metadata": {},
     "output_type": "execute_result"
    }
   ],
   "source": [
    "223549 + 112226"
   ]
  },
  {
   "cell_type": "code",
   "execution_count": 12,
   "metadata": {
    "colab": {},
    "colab_type": "code",
    "id": "eNircuZiVpxl"
   },
   "outputs": [],
   "source": [
    "# Combine train1 with a subset of train2\n",
    "train = pd.concat([\n",
    "    train1[['comment_text', 'toxic']].sample(n=20),\n",
    "#     train2[['comment_text', 'toxic']].query('toxic==1'),\n",
    "#     train2[['comment_text', 'toxic']].query('toxic==0').sample(n=200000, random_state=0),  \n",
    "    \n",
    "#     train3[['comment_text', 'toxic']].query('toxic==0'),\n",
    "#     train3[['comment_text', 'toxic']].query('toxic==1'),\n",
    "#     train4[['comment_text', 'toxic']].query('toxic==0'),\n",
    "#     train4[['comment_text', 'toxic']].query('toxic==1'),\n",
    "])"
   ]
  },
  {
   "cell_type": "code",
   "execution_count": 13,
   "metadata": {
    "colab": {
     "base_uri": "https://localhost:8080/",
     "height": 34
    },
    "colab_type": "code",
    "id": "8Abnsbi7cuSL",
    "outputId": "dc764d17-6f54-4933-b870-61cd062d0acb"
   },
   "outputs": [
    {
     "data": {
      "text/plain": [
       "\"D'aww! He matches this background colour I'm seemingly stuck with. Thanks.  (talk) 21:51, January 11, 2016 (UTC)\""
      ]
     },
     "execution_count": 13,
     "metadata": {},
     "output_type": "execute_result"
    }
   ],
   "source": [
    "train1.comment_text[1]"
   ]
  },
  {
   "cell_type": "code",
   "execution_count": 14,
   "metadata": {
    "colab": {
     "base_uri": "https://localhost:8080/",
     "height": 51
    },
    "colab_type": "code",
    "id": "liHLvGAYW3rB",
    "outputId": "d5fdff57-51cf-44cd-b947-075ea74224bf"
   },
   "outputs": [
    {
     "name": "stdout",
     "output_type": "stream",
     "text": [
      "CPU times: user 26.5 ms, sys: 0 ns, total: 26.5 ms\n",
      "Wall time: 25.4 ms\n"
     ]
    }
   ],
   "source": [
    "%%time\n",
    "input_columns = ['comment_text']\n",
    "train = clean_data(train, input_columns)"
   ]
  },
  {
   "cell_type": "code",
   "execution_count": 16,
   "metadata": {},
   "outputs": [
    {
     "data": {
      "text/plain": [
       "'::the formatting was mainly to allow it to be right aligned. i think it is a little weird to have an article on featured pictures that does not lead with one. feel free to delete the comment on depth of field   that may be better left for a more detailed report.'"
      ]
     },
     "execution_count": 16,
     "metadata": {},
     "output_type": "execute_result"
    }
   ],
   "source": [
    "train.comment_text.iloc[1]"
   ]
  },
  {
   "cell_type": "code",
   "execution_count": null,
   "metadata": {
    "colab": {},
    "colab_type": "code",
    "id": "yMGVP8EraL9p"
   },
   "outputs": [],
   "source": [
    "valid = clean_data(valid, input_columns)"
   ]
  },
  {
   "cell_type": "code",
   "execution_count": null,
   "metadata": {
    "colab": {
     "base_uri": "https://localhost:8080/",
     "height": 51
    },
    "colab_type": "code",
    "id": "TU290K4kXpBL",
    "outputId": "60214f3e-ecd8-415a-be04-d0f7192d85f8"
   },
   "outputs": [],
   "source": [
    "%%time\n",
    "input_columns = ['content']\n",
    "test = clean_data(test, input_columns)"
   ]
  },
  {
   "cell_type": "code",
   "execution_count": null,
   "metadata": {
    "colab": {
     "base_uri": "https://localhost:8080/",
     "height": 204
    },
    "colab_type": "code",
    "id": "s_UgbjMfj9CX",
    "outputId": "5325b779-64f9-4a2b-ae82-2c6b7cd7c7f2"
   },
   "outputs": [],
   "source": [
    "train.head()"
   ]
  },
  {
   "cell_type": "code",
   "execution_count": null,
   "metadata": {
    "colab": {
     "base_uri": "https://localhost:8080/",
     "height": 204
    },
    "colab_type": "code",
    "id": "BFul3Vt2kFmp",
    "outputId": "1e2fbbb9-98a3-42e0-939f-6a5fbafc0ade"
   },
   "outputs": [],
   "source": [
    "train1.head()"
   ]
  },
  {
   "cell_type": "code",
   "execution_count": null,
   "metadata": {
    "colab": {},
    "colab_type": "code",
    "id": "wE2_yALKkJnB"
   },
   "outputs": [],
   "source": []
  }
 ],
 "metadata": {
  "@webio": {
   "lastCommId": null,
   "lastKernelId": null
  },
  "colab": {
   "collapsed_sections": [],
   "name": "data_cleaning.ipynb",
   "provenance": []
  },
  "kernelspec": {
   "display_name": "Python 3",
   "language": "python",
   "name": "python3"
  },
  "language_info": {
   "codemirror_mode": {
    "name": "ipython",
    "version": 3
   },
   "file_extension": ".py",
   "mimetype": "text/x-python",
   "name": "python",
   "nbconvert_exporter": "python",
   "pygments_lexer": "ipython3",
   "version": "3.6.9"
  }
 },
 "nbformat": 4,
 "nbformat_minor": 1
}
